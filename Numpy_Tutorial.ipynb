{
  "nbformat": 4,
  "nbformat_minor": 0,
  "metadata": {
    "colab": {
      "provenance": [],
      "authorship_tag": "ABX9TyMpO5Su0OLD4m4JrbUu4BD5",
      "include_colab_link": true
    },
    "kernelspec": {
      "name": "python3",
      "display_name": "Python 3"
    },
    "language_info": {
      "name": "python"
    }
  },
  "cells": [
    {
      "cell_type": "markdown",
      "metadata": {
        "id": "view-in-github",
        "colab_type": "text"
      },
      "source": [
        "<a href=\"https://colab.research.google.com/github/ashu5644/Machine-Learning-Tools/blob/main/Numpy_Tutorial.ipynb\" target=\"_parent\"><img src=\"https://colab.research.google.com/assets/colab-badge.svg\" alt=\"Open In Colab\"/></a>"
      ]
    },
    {
      "cell_type": "code",
      "source": [
        "import numpy as np"
      ],
      "metadata": {
        "id": "RLzA2u2pOk17"
      },
      "execution_count": null,
      "outputs": []
    },
    {
      "cell_type": "code",
      "source": [],
      "metadata": {
        "id": "41pcxoM7Ozi-"
      },
      "execution_count": null,
      "outputs": []
    },
    {
      "cell_type": "markdown",
      "source": [
        "**Python VS C Language**\n",
        "1. Python language is human friendly and easier to code compared to C language.\n",
        "2. Python is relatively slow compared to C language.\n",
        "3. Python is application centric while C is OS centric i.e C is preferred in applications where we need to work close to OS and python is preffered in applications where we need to work close to software logic and don't care much on OS memory mangement etc.\n",
        "\n",
        "Numpy is written in C with python wrapper, so it gives us comfort of python syntax with speed of C.\n",
        "Complex mathematical operations can be computed very fast and efficently in Numpy, which are difficult to do with core python data structuers.\n",
        "\n",
        "\n",
        "**Properties of Numpy**\n",
        " 1. Numpy core object is N-Dimnesional array\n",
        " 2. N-D array objects are homogeneous always, i.e single type of data can be stored in an object, which is similar to C language objects and essential for speed.\n",
        " 3. N-D array objects are of fixed size, i.e object size is static and not dynamic i.e predefined size, which is similar to C language objects and essential for speed.\n",
        "\n",
        "\n",
        "\n",
        "Standalone Functions (np.func)\n",
        "  - They are designed to work on any array-like input (e.g., lists, tuples, numpy arrays) and often provide a more general or high-level operation.\n",
        "\n",
        "Array Methods (np_array.func)\n",
        "  - These methods are specific to numpy array instances and often provide operations or transformations that are tightly coupled with the array's internal structure.\n"
      ],
      "metadata": {
        "id": "vnLTIudjP9hf"
      }
    },
    {
      "cell_type": "markdown",
      "source": [
        "**N-D Array Creation**"
      ],
      "metadata": {
        "id": "dqfUO2a7SSU9"
      }
    },
    {
      "cell_type": "code",
      "source": [
        "import numpy as np"
      ],
      "metadata": {
        "id": "zS0bMByLSo2E"
      },
      "execution_count": null,
      "outputs": []
    },
    {
      "cell_type": "code",
      "source": [
        "# Method-1\n",
        "arr_1d = np.array([[1,2,3,4]], dtype=np.int32)\n",
        "arr_2d = np.array([[1,2,3,4],[5,6,7,8]], dtype=np.int32)\n",
        "print(arr_1d)\n",
        "print(\"*\"*50)\n",
        "print(arr_2d)\n",
        "print(\"*\"*50)\n",
        "# Method-2\n",
        "arr_zeros_nd = np.zeros((3,5))\n",
        "arr_ones_nd = np.ones((3,5))\n",
        "arr_identity_nd = np.identity(5) # only square arrays are allowed\n",
        "print(arr_zeros_nd)\n",
        "print(\"*\"*50)\n",
        "print(arr_ones_nd)\n",
        "print(\"*\"*50)\n",
        "print(arr_identity_nd)\n",
        "print(\"*\"*50)\n",
        "# Method-3\n",
        "arr_2 = np.arange(start=0,stop=5,step=1)\n",
        "print(arr_2)\n",
        "print(\"*\"*50)\n",
        "# Method-4\n",
        "arr_3 = np.linspace(start=0,stop=5,num=2)\n",
        "print(arr_3)\n",
        "\n",
        "# Difference between np.arange, np.linspace is following:\n",
        "# in np.arange we specify step size of gap b/w consecutive data points, while in np.linspace we specify num_samples to generate as third parameter"
      ],
      "metadata": {
        "colab": {
          "base_uri": "https://localhost:8080/"
        },
        "id": "Ir-vygVpSqjr",
        "outputId": "da807cc3-c132-4512-f0b5-7dd44bc48949"
      },
      "execution_count": null,
      "outputs": [
        {
          "output_type": "stream",
          "name": "stdout",
          "text": [
            "[[1 2 3 4]]\n",
            "**************************************************\n",
            "[[1 2 3 4]\n",
            " [5 6 7 8]]\n",
            "**************************************************\n",
            "[[0. 0. 0. 0. 0.]\n",
            " [0. 0. 0. 0. 0.]\n",
            " [0. 0. 0. 0. 0.]]\n",
            "**************************************************\n",
            "[[1. 1. 1. 1. 1.]\n",
            " [1. 1. 1. 1. 1.]\n",
            " [1. 1. 1. 1. 1.]]\n",
            "**************************************************\n",
            "[[1. 0. 0. 0. 0.]\n",
            " [0. 1. 0. 0. 0.]\n",
            " [0. 0. 1. 0. 0.]\n",
            " [0. 0. 0. 1. 0.]\n",
            " [0. 0. 0. 0. 1.]]\n",
            "**************************************************\n",
            "[0 1 2 3 4]\n",
            "**************************************************\n",
            "[0. 5.]\n"
          ]
        }
      ]
    },
    {
      "cell_type": "markdown",
      "source": [
        "**Properties and attributes of N-D array**"
      ],
      "metadata": {
        "id": "aEUQO89XUx9v"
      }
    },
    {
      "cell_type": "code",
      "source": [
        "arr_4 = np.array([[2,3,4],[5,6,7]])\n",
        "print(f\"shape: {arr_4.shape}\")\n",
        "print(\"*\"*50)\n",
        "print(f\"size: {arr_4.size}\")\n",
        "print(\"*\"*50)\n",
        "print(f\"ndim: {arr_4.ndim}\")\n",
        "print(\"*\"*50)\n",
        "print(f\"dtype: {arr_4.dtype}\")\n",
        "\n",
        "# Differecne between shape and size is following:\n",
        "# size represents total number of items, while shape represents number of items in each dimension.\n",
        "print(\"*\"*50)\n",
        "print(arr_4.astype('float').dtype)\n",
        "\n",
        "# astype function can be crucial in data cleaning steps to decrease memory footprint of data as pper requirements"
      ],
      "metadata": {
        "colab": {
          "base_uri": "https://localhost:8080/"
        },
        "id": "asqXgH2cU5zT",
        "outputId": "9a99d02c-7b45-46e5-8cbd-f87ee119c2c3"
      },
      "execution_count": null,
      "outputs": [
        {
          "output_type": "stream",
          "name": "stdout",
          "text": [
            "shape: (2, 3)\n",
            "**************************************************\n",
            "size: 6\n",
            "**************************************************\n",
            "ndim: 2\n",
            "**************************************************\n",
            "dtype: int64\n",
            "**************************************************\n",
            "float64\n"
          ]
        }
      ]
    },
    {
      "cell_type": "markdown",
      "source": [
        "**Python List VS Numpy N-D Arrays**\n",
        "1. N-D arrays are ***faster***\n",
        "  1. Due to broadcasting support, no loop requirement, multiple operations being done in parallel in numpy unlike sequential operations in python\n",
        "2. N-D arrays are ***convinent***\n",
        "  1. Syntax of n-d array operations is more human friendly and minimal compared to raw python\n",
        "3. N-D arrays occupy ***less memory*** for same data\n",
        "  1.  python array stores reference and values of all data-points, as stored location can be non-contguous due to non-predefined/dynamic/hetrogeneous data-type of python lists.\n",
        "  2. numpy array stores data points in continuous memory block due to predefined and homogenous data-type, that's why it's more memory efficient"
      ],
      "metadata": {
        "id": "UHkDyBOhWPbJ"
      }
    },
    {
      "cell_type": "code",
      "source": [
        "# Less Memory\n",
        "import numpy as np\n",
        "neles = 10**5\n",
        "arr_numpy = np.arange(neles)\n",
        "arr_python = list(range(neles))\n",
        "\n",
        "import sys\n",
        "python_list_size = sys.getsizeof(arr_python) + sum(sys.getsizeof(item) for item in arr_python)\n",
        "numpy_list_size = arr_numpy.nbytes\n",
        "print(f\"python_list_size(Bytes): {python_list_size}\")\n",
        "print(f\"numpy_list_size(Bytes): {numpy_list_size}\")\n",
        "print(f\"Memory-Ratio: {numpy_list_size/python_list_size}\") # 22% of python size only"
      ],
      "metadata": {
        "colab": {
          "base_uri": "https://localhost:8080/"
        },
        "id": "E0D65KTWWoPm",
        "outputId": "dea9add5-c57d-4082-cf01-18f37ce5633d"
      },
      "execution_count": 51,
      "outputs": [
        {
          "output_type": "stream",
          "name": "stdout",
          "text": [
            "python_list_size(Bytes): 3600052\n",
            "numpy_list_size(Bytes): 800000\n",
            "Memory-Ratio: 0.22221901239204322\n"
          ]
        }
      ]
    },
    {
      "cell_type": "code",
      "source": [
        "# Less Time\n",
        "import time\n",
        "arr_numpy1 = np.arange(neles)\n",
        "arr_numpy2 = np.arange(neles)\n",
        "t1 = time.time()\n",
        "arr_numpy3 = arr_numpy1+arr_numpy2\n",
        "t_numpy = time.time()-t1\n",
        "print(f\"Time-Numpy: {time.time()-t1} seconds\")\n",
        "arr_py1 = range(neles)\n",
        "arr_py2 = range(neles)\n",
        "t1 = time.time()\n",
        "arr_py3 = sum(arr_py1)+sum(arr_py2)\n",
        "t_python = time.time()-t1\n",
        "print(f\"Ratio: {t_numpy/t_python}\") # 5% of python time"
      ],
      "metadata": {
        "colab": {
          "base_uri": "https://localhost:8080/"
        },
        "id": "o6P90g-Rc9bL",
        "outputId": "cda8b9b9-27f2-447f-e831-3ce04c3e9964"
      },
      "execution_count": null,
      "outputs": [
        {
          "output_type": "stream",
          "name": "stdout",
          "text": [
            "Time-Numpy: 0.0005674362182617188 seconds\n",
            "Ratio: 0.05699857712803058\n"
          ]
        }
      ]
    },
    {
      "cell_type": "markdown",
      "source": [
        "**Reshaping Numpy Array**\n",
        "\n",
        "1. Ravel Return only reference/view of the original array\n",
        "2. Flatten Return copy of the original array"
      ],
      "metadata": {
        "id": "z9D2TSFvnqtt"
      }
    },
    {
      "cell_type": "code",
      "source": [
        "import numpy as np\n",
        "arr = np.random.randint(0,20,(5,4))\n",
        "print(arr)\n",
        "# Reshape\n",
        "print(\"*\"*50)\n",
        "print(arr.reshape((4,5)))\n",
        "# Ravel (Make 1d array)\n",
        "print(\"*\"*50)\n",
        "print(arr.ravel()) # Return only reference/view of the original array\n",
        "# Flatten (Make 1d array)\n",
        "print(\"*\"*50)\n",
        "print(arr.flatten()) # Return copy of the original array\n",
        "# Transpose\n",
        "print(\"*\"*50)\n",
        "print(np.transpose(arr, (1,0)))\n",
        "# Stacking (vertical, horizontal)\n",
        "arr1 = np.random.randint(0,10,(3,2))\n",
        "arr2 = np.random.randint(0,10,(3,2))\n",
        "print(\"*\"*50)\n",
        "print(np.vstack((arr1,arr2))) # top-down\n",
        "print(\"*\"*50)\n",
        "print(np.hstack((arr1,arr2))) # left-right\n",
        "# Breaking/Splitting (vertical, horizontal)\n",
        "print(\"*\"*50)\n",
        "print(np.vsplit(np.vstack((arr1,arr2)),2)) # only equal shape divison allowed\n",
        "print(\"*\"*50)\n",
        "print(np.hsplit(np.hstack((arr1,arr2)),2)) # only equal shape divison allowed"
      ],
      "metadata": {
        "colab": {
          "base_uri": "https://localhost:8080/"
        },
        "id": "kzog3BccnuB_",
        "outputId": "8deb41da-6152-433e-a1be-611be2c0dfce"
      },
      "execution_count": null,
      "outputs": [
        {
          "output_type": "stream",
          "name": "stdout",
          "text": [
            "[[18  8  9  4]\n",
            " [10 15  3  1]\n",
            " [ 0 17  8 14]\n",
            " [18  5  0 11]\n",
            " [13 14 18  1]]\n",
            "**************************************************\n",
            "[[18  8  9  4 10]\n",
            " [15  3  1  0 17]\n",
            " [ 8 14 18  5  0]\n",
            " [11 13 14 18  1]]\n",
            "**************************************************\n",
            "[18  8  9  4 10 15  3  1  0 17  8 14 18  5  0 11 13 14 18  1]\n",
            "**************************************************\n",
            "[18  8  9  4 10 15  3  1  0 17  8 14 18  5  0 11 13 14 18  1]\n",
            "**************************************************\n",
            "[[18 10  0 18 13]\n",
            " [ 8 15 17  5 14]\n",
            " [ 9  3  8  0 18]\n",
            " [ 4  1 14 11  1]]\n",
            "**************************************************\n",
            "[[5 1]\n",
            " [9 5]\n",
            " [8 3]\n",
            " [0 7]\n",
            " [2 9]\n",
            " [3 6]]\n",
            "**************************************************\n",
            "[[5 1 0 7]\n",
            " [9 5 2 9]\n",
            " [8 3 3 6]]\n",
            "**************************************************\n",
            "[array([[5, 1],\n",
            "       [9, 5],\n",
            "       [8, 3]]), array([[0, 7],\n",
            "       [2, 9],\n",
            "       [3, 6]])]\n",
            "**************************************************\n",
            "[array([[5, 1],\n",
            "       [9, 5],\n",
            "       [8, 3]]), array([[0, 7],\n",
            "       [2, 9],\n",
            "       [3, 6]])]\n"
          ]
        }
      ]
    },
    {
      "cell_type": "markdown",
      "source": [
        "**Indexing, Slicing, Iteration of N-D arrays**"
      ],
      "metadata": {
        "id": "-xxZOk1je2tr"
      }
    },
    {
      "cell_type": "code",
      "source": [
        "# Indexing and slicing\n",
        "arr6 = np.arange(24).reshape(4,6)\n",
        "print(arr6)\n",
        "print(\"*\"*50)\n",
        "print(arr6[2]) # extract 2nd row\n",
        "print(\"*\"*50)\n",
        "print(arr6[:, 2]) # extract 2nd column\n",
        "print(\"*\"*50)\n",
        "print(arr6[3, 2]) # extract 3row, 2nd column\n",
        "print(\"*\"*50)\n",
        "print(arr6[0:3, 0:2]) # extract first 3 rows, first 2 columns\n",
        "print(\"*\"*50)\n",
        "print(arr6[[0,2], [1,3]]) # extract individual elements by (x,y) cordinates specify as separate list\n",
        "# Indexing with boolean-array\n",
        "print(\"*\"*50)\n",
        "print(arr6[arr6>15]) # always gives 1-d array, as this opration works on elementwise data, and output can be of any irregaulr shape so final output comes as 1-d always."
      ],
      "metadata": {
        "colab": {
          "base_uri": "https://localhost:8080/"
        },
        "id": "t1NtU3dRhLxV",
        "outputId": "4f32bbd4-bb3c-454b-f385-07acc4821789"
      },
      "execution_count": null,
      "outputs": [
        {
          "output_type": "stream",
          "name": "stdout",
          "text": [
            "[[ 0  1  2  3  4  5]\n",
            " [ 6  7  8  9 10 11]\n",
            " [12 13 14 15 16 17]\n",
            " [18 19 20 21 22 23]]\n",
            "**************************************************\n",
            "[12 13 14 15 16 17]\n",
            "**************************************************\n",
            "[ 2  8 14 20]\n",
            "**************************************************\n",
            "20\n",
            "**************************************************\n",
            "[[ 0  1]\n",
            " [ 6  7]\n",
            " [12 13]]\n",
            "**************************************************\n",
            "[ 1 15]\n",
            "**************************************************\n",
            "[16 17 18 19 20 21 22 23]\n"
          ]
        }
      ]
    },
    {
      "cell_type": "code",
      "source": [
        "# extract 1st3rd row, 0th 2nd column (it is bit tricky)\n",
        "# can't specify both row and column selection in sngle operation, it will result into specific element selection as shown above\n",
        "arr1 = arr6[:,[0,2]][[1,3],:] # 0th 2nd column followed by 1stand 3row\n",
        "arr2 = arr6[[1,3],:][:,[0,2]] # 1stand 3row followed by 0th 2nd column\n",
        "print(\"*\"*50)\n",
        "print(arr1)\n",
        "print(\"*\"*100)\n",
        "print(arr2)"
      ],
      "metadata": {
        "colab": {
          "base_uri": "https://localhost:8080/"
        },
        "id": "cT6IdJ3kjz08",
        "outputId": "90890a3f-adb3-480a-f014-bcb8095b371b"
      },
      "execution_count": null,
      "outputs": [
        {
          "output_type": "stream",
          "name": "stdout",
          "text": [
            "**************************************************\n",
            "[[ 6  8]\n",
            " [18 20]]\n",
            "****************************************************************************************************\n",
            "[[ 6  8]\n",
            " [18 20]]\n"
          ]
        }
      ]
    },
    {
      "cell_type": "code",
      "source": [
        "for i in np.nditer(arr6):\n",
        "    print(i)"
      ],
      "metadata": {
        "colab": {
          "base_uri": "https://localhost:8080/"
        },
        "id": "J1Nm2MsNktyC",
        "outputId": "65c80a4d-f0eb-4234-bbba-28b665633fdd"
      },
      "execution_count": null,
      "outputs": [
        {
          "output_type": "stream",
          "name": "stdout",
          "text": [
            "0\n",
            "1\n",
            "2\n",
            "3\n",
            "4\n",
            "5\n",
            "6\n",
            "7\n",
            "8\n",
            "9\n",
            "10\n",
            "11\n",
            "12\n",
            "13\n",
            "14\n",
            "15\n",
            "16\n",
            "17\n",
            "18\n",
            "19\n",
            "20\n",
            "21\n",
            "22\n",
            "23\n"
          ]
        }
      ]
    },
    {
      "cell_type": "markdown",
      "source": [
        "**Numpy Operations**"
      ],
      "metadata": {
        "id": "ZutsEwPMlfW6"
      }
    },
    {
      "cell_type": "code",
      "source": [
        "# Multiply by scalr\n",
        "print(arr6)\n",
        "arr7 = arr6*2\n",
        "print(\"*\"*50)\n",
        "print(arr7)\n",
        "# Boolean operation\n",
        "print(\"*\"*50)\n",
        "print(arr7<10)\n",
        "# Dot product\n",
        "arr8 = np.random.randint(0,10,(3,4))\n",
        "arr9 = np.random.randint(0,10,(4,5))\n",
        "print(\"*\"*50)\n",
        "print(np.dot(arr8,arr9), np.dot(arr8,arr9).shape)\n",
        "# Min, Max, median, mode, mean, std. etc. etc along different axes (aggregate oprations)\n",
        "print(\"*\"*50)\n",
        "print(np.min(arr8), np.min(arr8,axis=0),np.min(arr8,axis=1))\n",
        "# Pointwise operations\n",
        "print(\"*\"*50)\n",
        "print(np.exp(arr8))\n",
        "print(\"*\"*50)\n",
        "print(np.sin(arr8))"
      ],
      "metadata": {
        "colab": {
          "base_uri": "https://localhost:8080/"
        },
        "id": "Z31ZNN1hlt0D",
        "outputId": "460bc31f-0475-46f5-dc91-e0733c48c871"
      },
      "execution_count": null,
      "outputs": [
        {
          "output_type": "stream",
          "name": "stdout",
          "text": [
            "[[ 0  1  2  3  4  5]\n",
            " [ 6  7  8  9 10 11]\n",
            " [12 13 14 15 16 17]\n",
            " [18 19 20 21 22 23]]\n",
            "**************************************************\n",
            "[[ 0  2  4  6  8 10]\n",
            " [12 14 16 18 20 22]\n",
            " [24 26 28 30 32 34]\n",
            " [36 38 40 42 44 46]]\n",
            "**************************************************\n",
            "[[ True  True  True  True  True False]\n",
            " [False False False False False False]\n",
            " [False False False False False False]\n",
            " [False False False False False False]]\n",
            "**************************************************\n",
            "[[ 33 108 108  68  96]\n",
            " [ 97  98  68 144 206]\n",
            " [ 40 125 104 101 134]] (3, 5)\n",
            "**************************************************\n",
            "1 [3 5 1 1] [1 1 3]\n",
            "**************************************************\n",
            "[[2.00855369e+01 1.48413159e+02 8.10308393e+03 2.71828183e+00]\n",
            " [8.10308393e+03 8.10308393e+03 2.71828183e+00 1.09663316e+03]\n",
            " [2.00855369e+01 1.48413159e+02 1.09663316e+03 2.98095799e+03]]\n",
            "**************************************************\n",
            "[[ 0.14112001 -0.95892427  0.41211849  0.84147098]\n",
            " [ 0.41211849  0.41211849  0.84147098  0.6569866 ]\n",
            " [ 0.14112001 -0.95892427  0.6569866   0.98935825]]\n"
          ]
        }
      ]
    },
    {
      "cell_type": "code",
      "source": [],
      "metadata": {
        "id": "BZuxQUynl8jt"
      },
      "execution_count": null,
      "outputs": []
    }
  ]
}