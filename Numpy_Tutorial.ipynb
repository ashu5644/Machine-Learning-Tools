{
  "nbformat": 4,
  "nbformat_minor": 0,
  "metadata": {
    "colab": {
      "provenance": [],
      "authorship_tag": "ABX9TyPlv2as39gR/Rl/uKx/KzGB",
      "include_colab_link": true
    },
    "kernelspec": {
      "name": "python3",
      "display_name": "Python 3"
    },
    "language_info": {
      "name": "python"
    }
  },
  "cells": [
    {
      "cell_type": "markdown",
      "metadata": {
        "id": "view-in-github",
        "colab_type": "text"
      },
      "source": [
        "<a href=\"https://colab.research.google.com/github/ashu5644/Machine-Learning-Tools/blob/main/Numpy_Tutorial.ipynb\" target=\"_parent\"><img src=\"https://colab.research.google.com/assets/colab-badge.svg\" alt=\"Open In Colab\"/></a>"
      ]
    },
    {
      "cell_type": "code",
      "source": [
        "import numpy as np"
      ],
      "metadata": {
        "id": "RLzA2u2pOk17"
      },
      "execution_count": null,
      "outputs": []
    },
    {
      "cell_type": "code",
      "source": [],
      "metadata": {
        "id": "41pcxoM7Ozi-"
      },
      "execution_count": null,
      "outputs": []
    },
    {
      "cell_type": "markdown",
      "source": [
        "**Python VS C Language**\n",
        "1. Python language is human friendly and easier to code compared to C language.\n",
        "2. Python is relatively slow compared to C language.\n",
        "3. Python is application centric while C is OS centric i.e C is preferred in applications where we need to work close to OS and python is preffered in applications where we need to work close to software logic and don't care much on OS memory mangement etc.\n",
        "\n",
        "Numpy is written in C with python wrapper, so it gives us comfort of python syntax with speed of C.\n",
        "Complex mathematical operations can be computed very fast and efficently in Numpy, which are difficult to do with core python data structuers.\n",
        "\n",
        "\n",
        "**Properties of Numpy**\n",
        " 1. Numpy core object is N-Dimnesional array\n",
        " 2. N-D array objects are homogeneous always, i.e single type of data can be stored in an object, which is similar to C language objects and essential for speed.\n",
        " 3. N-D array objects are of fixed size, i.e object size is static and not dynamic i.e predefined size, which is similar to C language objects and essential for speed.\n",
        "\n",
        "\n",
        "\n",
        "Standalone Functions (np.func)\n",
        "  - They are designed to work on any array-like input (e.g., lists, tuples, numpy arrays) and often provide a more general or high-level operation.\n",
        "\n",
        "Array Methods (np_array.func)\n",
        "  - These methods are specific to numpy array instances and often provide operations or transformations that are tightly coupled with the array's internal structure.\n"
      ],
      "metadata": {
        "id": "vnLTIudjP9hf"
      }
    },
    {
      "cell_type": "markdown",
      "source": [
        "**N-D Array Creation**\n",
        "\n",
        "Difference between np.arange, np.linspace is following:\n",
        " - in np.arange we specify step size of gap b/w consecutive data points, while in np.linspace we specify num_samples to generate as third parameter"
      ],
      "metadata": {
        "id": "dqfUO2a7SSU9"
      }
    },
    {
      "cell_type": "code",
      "source": [
        "import numpy as np"
      ],
      "metadata": {
        "id": "zS0bMByLSo2E"
      },
      "execution_count": null,
      "outputs": []
    },
    {
      "cell_type": "code",
      "source": [
        "# Method-1\n",
        "arr_1d = np.array([[1,2,3,4]], dtype=np.int32)\n",
        "arr_2d = np.array([[1,2,3,4],[5,6,7,8]], dtype=np.int32)\n",
        "print(arr_1d)\n",
        "print(\"*\"*50)\n",
        "print(arr_2d)\n",
        "print(\"*\"*50)\n",
        "# Method-2\n",
        "arr_zeros_nd = np.zeros((3,5))\n",
        "arr_ones_nd = np.ones((3,5))\n",
        "arr_identity_nd = np.identity(5) # only square arrays are allowed\n",
        "print(arr_zeros_nd)\n",
        "print(\"*\"*50)\n",
        "print(arr_ones_nd)\n",
        "print(\"*\"*50)\n",
        "print(arr_identity_nd)\n",
        "print(\"*\"*50)\n",
        "# Method-3\n",
        "arr_2 = np.arange(start=0,stop=5,step=1)\n",
        "print(arr_2)\n",
        "print(\"*\"*50)\n",
        "# Method-4\n",
        "arr_3 = np.linspace(start=0,stop=5,num=2)\n",
        "print(arr_3)\n",
        "# Method-5\n",
        "arr_4 = np.random.randint(0,10,(5,4)) # start, stop, shape\n",
        "print(\"*\"*50)\n",
        "print(arr_4)\n",
        "arr_5 = np.random.rand(5,4) # shape only, default range b/w (0,1)\n",
        "print(\"*\"*50)\n",
        "print(arr_5)\n",
        "arr6 = np.random.uniform(0,100,(3,4))\n",
        "print(\"*\"*50)\n",
        "print(arr6)\n",
        "# Single-Number\n",
        "print(\"*\"*50)\n",
        "print(np.random.randint(0,10),np.random.random(),np.random.uniform(0,100))"
      ],
      "metadata": {
        "colab": {
          "base_uri": "https://localhost:8080/"
        },
        "id": "Ir-vygVpSqjr",
        "outputId": "10dbfe2c-61cd-42e4-d260-2d58cd0ea349"
      },
      "execution_count": 70,
      "outputs": [
        {
          "output_type": "stream",
          "name": "stdout",
          "text": [
            "[[1 2 3 4]]\n",
            "**************************************************\n",
            "[[1 2 3 4]\n",
            " [5 6 7 8]]\n",
            "**************************************************\n",
            "[[0. 0. 0. 0. 0.]\n",
            " [0. 0. 0. 0. 0.]\n",
            " [0. 0. 0. 0. 0.]]\n",
            "**************************************************\n",
            "[[1. 1. 1. 1. 1.]\n",
            " [1. 1. 1. 1. 1.]\n",
            " [1. 1. 1. 1. 1.]]\n",
            "**************************************************\n",
            "[[1. 0. 0. 0. 0.]\n",
            " [0. 1. 0. 0. 0.]\n",
            " [0. 0. 1. 0. 0.]\n",
            " [0. 0. 0. 1. 0.]\n",
            " [0. 0. 0. 0. 1.]]\n",
            "**************************************************\n",
            "[0 1 2 3 4]\n",
            "**************************************************\n",
            "[0. 5.]\n",
            "**************************************************\n",
            "[[4 2 5 1]\n",
            " [2 5 4 3]\n",
            " [8 5 2 4]\n",
            " [2 6 1 4]\n",
            " [4 5 8 8]]\n",
            "**************************************************\n",
            "[[0.18070332 0.78990806 0.50230626 0.3425524 ]\n",
            " [0.10720678 0.47250057 0.27482038 0.01690418]\n",
            " [0.41666598 0.81187426 0.95235491 0.45389741]\n",
            " [0.75138305 0.04646275 0.84861465 0.9950047 ]\n",
            " [0.67094108 0.79604752 0.95699795 0.27639219]]\n",
            "**************************************************\n",
            "[[40.19075111 81.24674428 61.25281694 96.49636336]\n",
            " [56.26495984 96.70568645 39.29883989  2.03230255]\n",
            " [ 7.24738638 93.99112315 89.23412868 51.2499003 ]]\n",
            "**************************************************\n",
            "8 0.256347138117512 16.68250559793639\n"
          ]
        }
      ]
    },
    {
      "cell_type": "markdown",
      "source": [
        "**Properties and attributes of N-D array**\n",
        "\n",
        "Differecne between shape and size is following:\n",
        " - size represents total number of items, while shape represents number of items in each dimension.\n",
        " - astype function can be crucial in data cleaning steps to decrease memory footprint of data as pper requirements"
      ],
      "metadata": {
        "id": "aEUQO89XUx9v"
      }
    },
    {
      "cell_type": "code",
      "source": [
        "arr_4 = np.array([[2,3,4],[5,6,7]])\n",
        "print(f\"shape: {arr_4.shape}\")\n",
        "print(\"*\"*50)\n",
        "print(f\"size: {arr_4.size}\")\n",
        "print(\"*\"*50)\n",
        "print(f\"ndim: {arr_4.ndim}\")\n",
        "print(\"*\"*50)\n",
        "print(f\"dtype: {arr_4.dtype}\")\n",
        "\n",
        "print(\"*\"*50)\n",
        "print(arr_4.astype('float').dtype)"
      ],
      "metadata": {
        "colab": {
          "base_uri": "https://localhost:8080/"
        },
        "id": "asqXgH2cU5zT",
        "outputId": "9a99d02c-7b45-46e5-8cbd-f87ee119c2c3"
      },
      "execution_count": null,
      "outputs": [
        {
          "output_type": "stream",
          "name": "stdout",
          "text": [
            "shape: (2, 3)\n",
            "**************************************************\n",
            "size: 6\n",
            "**************************************************\n",
            "ndim: 2\n",
            "**************************************************\n",
            "dtype: int64\n",
            "**************************************************\n",
            "float64\n"
          ]
        }
      ]
    },
    {
      "cell_type": "markdown",
      "source": [
        "**Python List VS Numpy N-D Arrays**\n",
        "1. N-D arrays are ***faster***\n",
        "  1. Due to broadcasting support, no loop requirement, multiple operations being done in parallel in numpy unlike sequential operations in python\n",
        "2. N-D arrays are ***convinent***\n",
        "  1. Syntax of n-d array operations is more human friendly and minimal compared to raw python\n",
        "3. N-D arrays occupy ***less memory*** for same data\n",
        "  1.  python array stores reference and values of all data-points, as stored location can be non-contguous due to non-predefined/dynamic/hetrogeneous data-type of python lists.\n",
        "  2. numpy array stores data points in continuous memory block due to predefined and homogenous data-type, that's why it's more memory efficient"
      ],
      "metadata": {
        "id": "UHkDyBOhWPbJ"
      }
    },
    {
      "cell_type": "code",
      "source": [
        "# Less Memory\n",
        "import numpy as np\n",
        "neles = 10**5\n",
        "arr_numpy = np.arange(neles)\n",
        "arr_python = list(range(neles))\n",
        "\n",
        "import sys\n",
        "python_list_size = sys.getsizeof(arr_python) + sum(sys.getsizeof(item) for item in arr_python)\n",
        "numpy_list_size = arr_numpy.nbytes\n",
        "print(f\"python_list_size(Bytes): {python_list_size}\")\n",
        "print(f\"numpy_list_size(Bytes): {numpy_list_size}\")\n",
        "print(f\"Memory-Ratio: {numpy_list_size/python_list_size}\") # 22% of python size only"
      ],
      "metadata": {
        "colab": {
          "base_uri": "https://localhost:8080/"
        },
        "id": "E0D65KTWWoPm",
        "outputId": "dea9add5-c57d-4082-cf01-18f37ce5633d"
      },
      "execution_count": 51,
      "outputs": [
        {
          "output_type": "stream",
          "name": "stdout",
          "text": [
            "python_list_size(Bytes): 3600052\n",
            "numpy_list_size(Bytes): 800000\n",
            "Memory-Ratio: 0.22221901239204322\n"
          ]
        }
      ]
    },
    {
      "cell_type": "code",
      "source": [
        "# Less Time\n",
        "import time\n",
        "arr_numpy1 = np.arange(neles)\n",
        "arr_numpy2 = np.arange(neles)\n",
        "t1 = time.time()\n",
        "arr_numpy3 = arr_numpy1+arr_numpy2\n",
        "t_numpy = time.time()-t1\n",
        "print(f\"Time-Numpy: {t_numpy} seconds\")\n",
        "arr_py1 = range(neles)\n",
        "arr_py2 = range(neles)\n",
        "t1 = time.time()\n",
        "arr_py3 = sum(arr_py1)+sum(arr_py2)\n",
        "t_python = time.time()-t1\n",
        "print(f\"Time-Python: {t_python} seconds\")\n",
        "print(f\"Ratio: {t_numpy/t_python}\") # 5% of python time"
      ],
      "metadata": {
        "colab": {
          "base_uri": "https://localhost:8080/"
        },
        "id": "o6P90g-Rc9bL",
        "outputId": "6e5e3ed6-50a1-460d-f9fc-befb2fb11d6d"
      },
      "execution_count": 52,
      "outputs": [
        {
          "output_type": "stream",
          "name": "stdout",
          "text": [
            "Time-Numpy: 0.0005340576171875 seconds\n",
            "Time-Python: 0.007066965103149414 seconds\n",
            "Ratio: 0.07557099962889241\n"
          ]
        }
      ]
    },
    {
      "cell_type": "markdown",
      "source": [
        "**Reshaping Numpy Array**\n",
        "\n",
        "1. Ravel Return only reference/view of the original array\n",
        "2. Flatten Return copy of the original array"
      ],
      "metadata": {
        "id": "z9D2TSFvnqtt"
      }
    },
    {
      "cell_type": "code",
      "source": [
        "import numpy as np\n",
        "arr = np.random.randint(0,20,(5,4))\n",
        "print(arr)\n",
        "# Reshape\n",
        "print(\"*\"*50)\n",
        "print(arr.reshape((4,5)))\n",
        "# Ravel (Make 1d array)\n",
        "print(\"*\"*50)\n",
        "print(arr.ravel()) # Return only reference/view of the original array\n",
        "# Flatten (Make 1d array)\n",
        "print(\"*\"*50)\n",
        "print(arr.flatten()) # Return copy of the original array\n",
        "# Transpose\n",
        "print(\"*\"*50)\n",
        "print(np.transpose(arr, (1,0)))\n",
        "# Stacking (vertical, horizontal)\n",
        "arr1 = np.random.randint(0,10,(3,2))\n",
        "arr2 = np.random.randint(0,10,(3,2))\n",
        "print(\"*\"*50)\n",
        "print(np.vstack((arr1,arr2))) # top-down\n",
        "print(\"*\"*50)\n",
        "print(np.hstack((arr1,arr2))) # left-right\n",
        "# Breaking/Splitting (vertical, horizontal)\n",
        "print(\"*\"*50)\n",
        "print(np.vsplit(np.vstack((arr1,arr2)),2)) # only equal shape divison allowed\n",
        "print(\"*\"*50)\n",
        "print(np.hsplit(np.hstack((arr1,arr2)),2)) # only equal shape divison allowed"
      ],
      "metadata": {
        "colab": {
          "base_uri": "https://localhost:8080/"
        },
        "id": "kzog3BccnuB_",
        "outputId": "8deb41da-6152-433e-a1be-611be2c0dfce"
      },
      "execution_count": null,
      "outputs": [
        {
          "output_type": "stream",
          "name": "stdout",
          "text": [
            "[[18  8  9  4]\n",
            " [10 15  3  1]\n",
            " [ 0 17  8 14]\n",
            " [18  5  0 11]\n",
            " [13 14 18  1]]\n",
            "**************************************************\n",
            "[[18  8  9  4 10]\n",
            " [15  3  1  0 17]\n",
            " [ 8 14 18  5  0]\n",
            " [11 13 14 18  1]]\n",
            "**************************************************\n",
            "[18  8  9  4 10 15  3  1  0 17  8 14 18  5  0 11 13 14 18  1]\n",
            "**************************************************\n",
            "[18  8  9  4 10 15  3  1  0 17  8 14 18  5  0 11 13 14 18  1]\n",
            "**************************************************\n",
            "[[18 10  0 18 13]\n",
            " [ 8 15 17  5 14]\n",
            " [ 9  3  8  0 18]\n",
            " [ 4  1 14 11  1]]\n",
            "**************************************************\n",
            "[[5 1]\n",
            " [9 5]\n",
            " [8 3]\n",
            " [0 7]\n",
            " [2 9]\n",
            " [3 6]]\n",
            "**************************************************\n",
            "[[5 1 0 7]\n",
            " [9 5 2 9]\n",
            " [8 3 3 6]]\n",
            "**************************************************\n",
            "[array([[5, 1],\n",
            "       [9, 5],\n",
            "       [8, 3]]), array([[0, 7],\n",
            "       [2, 9],\n",
            "       [3, 6]])]\n",
            "**************************************************\n",
            "[array([[5, 1],\n",
            "       [9, 5],\n",
            "       [8, 3]]), array([[0, 7],\n",
            "       [2, 9],\n",
            "       [3, 6]])]\n"
          ]
        }
      ]
    },
    {
      "cell_type": "markdown",
      "source": [
        "**Indexing, Slicing, Iteration of N-D arrays**"
      ],
      "metadata": {
        "id": "-xxZOk1je2tr"
      }
    },
    {
      "cell_type": "code",
      "source": [
        "# Indexing and slicing\n",
        "arr6 = np.arange(24).reshape(4,6)\n",
        "print(arr6)\n",
        "print(\"*\"*50)\n",
        "print(arr6[2]) # extract 2nd row\n",
        "print(\"*\"*50)\n",
        "print(arr6[:, 2]) # extract 2nd column\n",
        "print(\"*\"*50)\n",
        "print(arr6[3, 2]) # extract 3row, 2nd column\n",
        "print(\"*\"*50)\n",
        "print(arr6[0:3, 0:2]) # extract first 3 rows, first 2 columns\n",
        "print(\"*\"*50)\n",
        "print(arr6[[0,2], [1,3]]) # extract individual elements by (x,y) cordinates specify as separate list\n",
        "# Indexing with boolean-array\n",
        "print(\"*\"*50)\n",
        "print(arr6[arr6>15]) # always gives 1-d array, as this opration works on elementwise data, and output can be of any irregaulr shape so final output comes as 1-d always.\n",
        "# Iteration\n",
        "print(\"*\"*50)\n",
        "for i in np.nditer(arr6):\n",
        "    print(i)"
      ],
      "metadata": {
        "colab": {
          "base_uri": "https://localhost:8080/"
        },
        "id": "t1NtU3dRhLxV",
        "outputId": "39a381c6-4914-435a-bf98-4244c271fa4e"
      },
      "execution_count": 54,
      "outputs": [
        {
          "output_type": "stream",
          "name": "stdout",
          "text": [
            "[[ 0  1  2  3  4  5]\n",
            " [ 6  7  8  9 10 11]\n",
            " [12 13 14 15 16 17]\n",
            " [18 19 20 21 22 23]]\n",
            "**************************************************\n",
            "[12 13 14 15 16 17]\n",
            "**************************************************\n",
            "[ 2  8 14 20]\n",
            "**************************************************\n",
            "20\n",
            "**************************************************\n",
            "[[ 0  1]\n",
            " [ 6  7]\n",
            " [12 13]]\n",
            "**************************************************\n",
            "[ 1 15]\n",
            "**************************************************\n",
            "[16 17 18 19 20 21 22 23]\n",
            "**************************************************\n",
            "0\n",
            "1\n",
            "2\n",
            "3\n",
            "4\n",
            "5\n",
            "6\n",
            "7\n",
            "8\n",
            "9\n",
            "10\n",
            "11\n",
            "12\n",
            "13\n",
            "14\n",
            "15\n",
            "16\n",
            "17\n",
            "18\n",
            "19\n",
            "20\n",
            "21\n",
            "22\n",
            "23\n"
          ]
        }
      ]
    },
    {
      "cell_type": "markdown",
      "source": [
        "**Fancy Indexing**"
      ],
      "metadata": {
        "id": "Recq5gSbs5cq"
      }
    },
    {
      "cell_type": "code",
      "source": [
        "# extract 1st3rd row, 0th 2nd column (it is bit tricky)\n",
        "# can't specify both row and column selection in sngle operation, it will result into specific element selection as shown above\n",
        "arr1 = arr6[:,[0,2]][[1,3],:] # 0th 2nd column followed by 1stand 3row\n",
        "arr2 = arr6[[1,3],:][:,[0,2]] # 1stand 3row followed by 0th 2nd column\n",
        "print(\"*\"*50)\n",
        "print(arr1)\n",
        "print(\"*\"*100)\n",
        "print(arr2)"
      ],
      "metadata": {
        "colab": {
          "base_uri": "https://localhost:8080/"
        },
        "id": "cT6IdJ3kjz08",
        "outputId": "d6b4241c-0f7a-434b-babf-1873c7d42a1e"
      },
      "execution_count": 55,
      "outputs": [
        {
          "output_type": "stream",
          "name": "stdout",
          "text": [
            "**************************************************\n",
            "[[ 6  8]\n",
            " [18 20]]\n",
            "****************************************************************************************************\n",
            "[[ 6  8]\n",
            " [18 20]]\n"
          ]
        }
      ]
    },
    {
      "cell_type": "markdown",
      "source": [
        "**Numpy Operations**"
      ],
      "metadata": {
        "id": "ZutsEwPMlfW6"
      }
    },
    {
      "cell_type": "code",
      "source": [
        "# Multiply by scalr\n",
        "print(arr6)\n",
        "arr7 = arr6*2\n",
        "print(\"*\"*50)\n",
        "print(arr7)\n",
        "# Boolean operation\n",
        "print(\"*\"*50)\n",
        "print(arr7<10)\n",
        "# Dot product\n",
        "arr8 = np.random.randint(0,10,(3,4))\n",
        "arr9 = np.random.randint(0,10,(4,5))\n",
        "print(\"*\"*50)\n",
        "print(np.dot(arr8,arr9), np.dot(arr8,arr9).shape)\n",
        "# Min, Max, median, mode, mean, std. etc. etc along different axes (aggregate oprations)\n",
        "print(\"*\"*50)\n",
        "print(np.min(arr8), np.min(arr8,axis=0),np.min(arr8,axis=1))\n",
        "# percentile\n",
        "print(np.percentile(arr8,25), np.percentile(arr8,25,axis=0), np.percentile(arr8,25,axis=1))\n",
        "# sort\n",
        "print(np.sort(arr8), np.sort(arr8, axis=0), np.sort(arr8,axis=1))\n",
        "# argmin, argmax\n",
        "print(\"*\"*50)\n",
        "print(np.argmin(arr8), np.argmin(arr8,axis=0),np.argmin(arr8,axis=1))\n",
        "# Pointwise operations\n",
        "print(\"*\"*50)\n",
        "print(np.exp(arr8))\n",
        "print(\"*\"*50)\n",
        "print(np.sin(arr8))"
      ],
      "metadata": {
        "colab": {
          "base_uri": "https://localhost:8080/"
        },
        "id": "Z31ZNN1hlt0D",
        "outputId": "7d01a713-3c34-4546-d93b-f050066566be"
      },
      "execution_count": 75,
      "outputs": [
        {
          "output_type": "stream",
          "name": "stdout",
          "text": [
            "[[40.19075111 81.24674428 61.25281694 96.49636336]\n",
            " [56.26495984 96.70568645 39.29883989  2.03230255]\n",
            " [ 7.24738638 93.99112315 89.23412868 51.2499003 ]]\n",
            "**************************************************\n",
            "[[ 80.38150221 162.49348856 122.50563387 192.99272673]\n",
            " [112.52991969 193.41137291  78.59767978   4.0646051 ]\n",
            " [ 14.49477277 187.98224629 178.46825736 102.49980061]]\n",
            "**************************************************\n",
            "[[False False False False]\n",
            " [False False False  True]\n",
            " [False False False False]]\n",
            "**************************************************\n",
            "[[ 48  12  63  22  43]\n",
            " [ 64   0 144  75  58]\n",
            " [ 60  57  84  82  82]] (3, 5)\n",
            "**************************************************\n",
            "0 [0 0 3 0] [0 0 1]\n",
            "0.0 [1.5 0.  3.  0.5] [0.  0.  2.5]\n",
            "[[0 0 3 4]\n",
            " [0 0 8 9]\n",
            " [1 3 3 6]] [[0 0 3 0]\n",
            " [3 0 3 1]\n",
            " [9 6 8 4]] [[0 0 3 4]\n",
            " [0 0 8 9]\n",
            " [1 3 3 6]]\n",
            "**************************************************\n",
            "0 [0 0 0 1] [0 1 3]\n",
            "**************************************************\n",
            "[[1.00000000e+00 1.00000000e+00 2.00855369e+01 5.45981500e+01]\n",
            " [8.10308393e+03 1.00000000e+00 2.98095799e+03 1.00000000e+00]\n",
            " [2.00855369e+01 4.03428793e+02 2.00855369e+01 2.71828183e+00]]\n",
            "**************************************************\n",
            "[[ 0.          0.          0.14112001 -0.7568025 ]\n",
            " [ 0.41211849  0.          0.98935825  0.        ]\n",
            " [ 0.14112001 -0.2794155   0.14112001  0.84147098]]\n"
          ]
        }
      ]
    },
    {
      "cell_type": "markdown",
      "source": [
        "**Broadcasting N-D arrays**\n",
        "\n",
        " - The trem broadcasting referes to ability of numpy arrays to treat arrays of different shapes during elementwise arthemetic operations. these operations are done on corrosponding elements of arrays. if two arrays are of exact same size, these operations are smoothly performed.\n",
        " - If dimensions of two arrays don't match, numpy make it still possible to do elemetwise operations by broadcasting smaller size array to large size array by broadcasting smaller array by repeating its elements.\n",
        " - Either array dimension is 1, otherwise dimnesional should have same number of elements in both arrays.\n",
        "    - ex: (1,1) (a,b) allowed\n",
        "    - ex: (1,b) (a,b) allowed\n",
        "    - ex: (a,1) (a,b) allowed\n",
        "    - ex: (a,c) (a,b) not allowed\n",
        "    - ex: (a,1) (c,b) not allowed\n",
        "    - ex: scalar (c,b) allowed"
      ],
      "metadata": {
        "id": "LQ8f6RZ9tVFH"
      }
    },
    {
      "cell_type": "code",
      "source": [
        "arr1 = np.random.randint(0,10,(1,3))\n",
        "arr2 = np.random.randint(0,10,(6,3))\n",
        "print(arr1)\n",
        "print(\"*\"*50)\n",
        "print(arr2)\n",
        "print(\"*\"*50)\n",
        "print(arr1+arr2)"
      ],
      "metadata": {
        "colab": {
          "base_uri": "https://localhost:8080/"
        },
        "id": "D9cJnJkTuqGG",
        "outputId": "f9fde6b8-bbcb-441f-d95d-51585a89dad6"
      },
      "execution_count": 62,
      "outputs": [
        {
          "output_type": "stream",
          "name": "stdout",
          "text": [
            "[[8 8 4]]\n",
            "**************************************************\n",
            "[[4 0 6]\n",
            " [7 5 0]\n",
            " [5 3 6]\n",
            " [7 2 7]\n",
            " [1 4 2]\n",
            " [6 9 1]]\n",
            "**************************************************\n",
            "[[12  8 10]\n",
            " [15 13  4]\n",
            " [13 11 10]\n",
            " [15 10 11]\n",
            " [ 9 12  6]\n",
            " [14 17  5]]\n"
          ]
        }
      ]
    }
  ]
}